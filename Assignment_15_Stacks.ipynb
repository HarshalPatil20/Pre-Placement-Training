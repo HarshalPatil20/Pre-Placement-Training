{
  "nbformat": 4,
  "nbformat_minor": 0,
  "metadata": {
    "colab": {
      "provenance": []
    },
    "kernelspec": {
      "name": "python3",
      "display_name": "Python 3"
    },
    "language_info": {
      "name": "python"
    }
  },
  "cells": [
    {
      "cell_type": "markdown",
      "source": [],
      "metadata": {
        "id": "MzF_xCJlkSqq"
      }
    },
    {
      "cell_type": "code",
      "execution_count": null,
      "metadata": {
        "id": "UH1GUU8bkQCl"
      },
      "outputs": [],
      "source": [
        " **Question 1**\n",
        "\n",
        "Given an array **arr[ ]** of size **N** having elements, the task is to find the next greater element for each element of the array in order of their appearance in the array.Next greater element of an element in the array is the nearest element on the right which is greater than the current element.If there does not exist next greater of current element, then next greater element for current element is -1. For example, next greater of the last element is always -1.\n",
        "\n",
        "**Example 1:**\n",
        "Input:\n",
        "N = 4, arr[] = [1 3 2 4]\n",
        "Output:\n",
        "3 4 4 -1\n",
        "Explanation:\n",
        "In the array, the next larger element\n",
        "to 1 is 3 , 3 is 4 , 2 is 4 and for 4 ?\n",
        "since it doesn't exist, it is -1."
      ]
    },
    {
      "cell_type": "code",
      "source": [
        "def next_greater_element(arr):\n",
        "    stack = []\n",
        "    result = [-1] * len(arr)  # Initialize the result array with -1\n",
        "\n",
        "    for i in range(len(arr)-1, -1, -1):\n",
        "        # Pop elements from the stack while they are smaller than or equal to the current element\n",
        "        while stack and stack[-1] <= arr[i]:\n",
        "            stack.pop()\n",
        "\n",
        "        # If there's a greater element in the stack, it will be the next greater element\n",
        "        if stack:\n",
        "            result[i] = stack[-1]\n",
        "\n",
        "        # Push the current element onto the stack\n",
        "        stack.append(arr[i])\n",
        "\n",
        "    return result\n",
        "\n",
        "# Example usage\n",
        "arr = [1, 3, 2, 4]\n",
        "result = next_greater_element(arr)\n",
        "print(result)\n"
      ],
      "metadata": {
        "colab": {
          "base_uri": "https://localhost:8080/"
        },
        "id": "u54Q4zy-kVQp",
        "outputId": "69c7316b-6568-401d-bf75-c07eff30adca"
      },
      "execution_count": 1,
      "outputs": [
        {
          "output_type": "stream",
          "name": "stdout",
          "text": [
            "[3, 4, 4, -1]\n"
          ]
        }
      ]
    },
    {
      "cell_type": "markdown",
      "source": [],
      "metadata": {
        "id": "2EVZPkpGkl2A"
      }
    },
    {
      "cell_type": "code",
      "source": [
        "💡 **Question 2**\n",
        "\n",
        "Given an array **a** of integers of length **n**, find the nearest smaller number for every element such that the smaller element is on left side.If no small element present on the left print -1.\n",
        "\n",
        "**Example 1:**\n",
        "Input: n = 3\n",
        "a = {1, 6, 2}\n",
        "Output: -1 1 1\n",
        "Explaination: There is no number at the\n",
        "left of 1. Smaller number than 6 and 2 is 1.\n",
        "Input: n = 6\n",
        "a = {1, 5, 0, 3, 4, 5}\n",
        "Output: -1 1 -1 0 3 4\n",
        "Explaination: Upto 3 it is easy to see\n",
        "the smaller numbers. But for 4 the smaller\n",
        "numbers are 1, 0 and 3. But among them 3\n",
        "is closest. Similary for 5 it is 4."
      ],
      "metadata": {
        "id": "ToQ2r_1ekWLQ"
      },
      "execution_count": null,
      "outputs": []
    },
    {
      "cell_type": "code",
      "source": [
        "def nearest_smaller_number(arr):\n",
        "    stack = []\n",
        "    result = [-1] * len(arr)  # Initialize the result array with -1\n",
        "\n",
        "    for i in range(len(arr)):\n",
        "        # Pop elements from the stack until we find a smaller element or the stack becomes empty\n",
        "        while stack and stack[-1] >= arr[i]:\n",
        "            stack.pop()\n",
        "\n",
        "        # If there's a smaller element in the stack, it will be the nearest smaller number\n",
        "        if stack:\n",
        "            result[i] = stack[-1]\n",
        "\n",
        "        # Push the current element onto the stack\n",
        "        stack.append(arr[i])\n",
        "\n",
        "    return result\n",
        "\n",
        "# Example usage\n",
        "arr = [1, 6, 2]\n",
        "result = nearest_smaller_number(arr)\n",
        "print(result)\n"
      ],
      "metadata": {
        "colab": {
          "base_uri": "https://localhost:8080/"
        },
        "id": "b-XEgjkgkWON",
        "outputId": "acc89670-fb20-49f8-bcec-e4c93cd27e66"
      },
      "execution_count": 2,
      "outputs": [
        {
          "output_type": "stream",
          "name": "stdout",
          "text": [
            "[-1, 1, 1]\n"
          ]
        }
      ]
    },
    {
      "cell_type": "markdown",
      "source": [],
      "metadata": {
        "id": "1woasvGKkzIm"
      }
    },
    {
      "cell_type": "markdown",
      "source": [],
      "metadata": {
        "id": "a-ffylT-k3hK"
      }
    },
    {
      "cell_type": "code",
      "source": [
        "**Question 3**\n",
        "\n",
        "Implement a Stack using two queues **q1** and **q2**.\n",
        "\n",
        "**Example 1**\n",
        "Input:\n",
        "push(2)\n",
        "push(3)\n",
        "pop()\n",
        "push(4)\n",
        "pop()\n",
        "Output:3 4\n",
        "Explanation:\n",
        "push(2) the stack will be {2}\n",
        "push(3) the stack will be {2 3}\n",
        "pop()   poped element will be 3 the\n",
        "        stack will be {2}\n",
        "push(4) the stack will be {2 4}\n",
        "pop()   poped element will be 4"
      ],
      "metadata": {
        "colab": {
          "base_uri": "https://localhost:8080/",
          "height": 130
        },
        "id": "uz6LoJFUkWQ-",
        "outputId": "141de1d0-995b-4252-d95f-755050720c09"
      },
      "execution_count": 3,
      "outputs": [
        {
          "output_type": "error",
          "ename": "SyntaxError",
          "evalue": "ignored",
          "traceback": [
            "\u001b[0;36m  File \u001b[0;32m\"<ipython-input-3-34f26bbaeb70>\"\u001b[0;36m, line \u001b[0;32m1\u001b[0m\n\u001b[0;31m    **Question 3**\u001b[0m\n\u001b[0m    ^\u001b[0m\n\u001b[0;31mSyntaxError\u001b[0m\u001b[0;31m:\u001b[0m invalid syntax\n"
          ]
        }
      ]
    },
    {
      "cell_type": "code",
      "source": [
        "from queue import Queue\n",
        "\n",
        "class Stack:\n",
        "    def __init__(self):\n",
        "        self.q1 = Queue()\n",
        "        self.q2 = Queue()\n",
        "\n",
        "    def push(self, element):\n",
        "        self.q1.put(element)\n",
        "\n",
        "    def pop(self):\n",
        "        if self.empty():\n",
        "            return None\n",
        "\n",
        "        while self.q1.qsize() > 1:\n",
        "            self.q2.put(self.q1.get())\n",
        "\n",
        "        popped_element = self.q1.get()\n",
        "\n",
        "        # Swap q1 and q2\n",
        "        self.q1, self.q2 = self.q2, self.q1\n",
        "\n",
        "        return popped_element\n",
        "\n",
        "    def top(self):\n",
        "        if self.empty():\n",
        "            return None\n",
        "\n",
        "        while self.q1.qsize() > 1:\n",
        "            self.q2.put(self.q1.get())\n",
        "\n",
        "        top_element = self.q1.get()\n",
        "        self.q2.put(top_element)\n",
        "\n",
        "        # Swap q1 and q2\n",
        "        self.q1, self.q2 = self.q2, self.q1\n",
        "\n",
        "        return top_element\n",
        "\n",
        "    def empty(self):\n",
        "        return self.q1.empty() and self.q2.empty()\n",
        "\n",
        "\n",
        "# Example usage\n",
        "stack = Stack()\n",
        "stack.push(2)\n",
        "stack.push(3)\n",
        "print(stack.pop())  # Output: 3\n",
        "stack.push(4)\n",
        "print(stack.pop())  # Output: 4\n"
      ],
      "metadata": {
        "colab": {
          "base_uri": "https://localhost:8080/"
        },
        "id": "XmTITkbckWTp",
        "outputId": "193842fb-63f9-4691-bd97-11b04b1fdf8e"
      },
      "execution_count": 4,
      "outputs": [
        {
          "output_type": "stream",
          "name": "stdout",
          "text": [
            "3\n",
            "4\n"
          ]
        }
      ]
    },
    {
      "cell_type": "code",
      "source": [
        "<aside>\n",
        "💡 **Question 4**\n",
        "\n",
        "You are given a stack **St**. You have to reverse the stack using recursion.\n",
        "\n",
        "**Example 1:**\n",
        "Input:St = {3,2,1,7,6}\n",
        "Output:{6,7,1,2,3}\n",
        "\n",
        "</aside>"
      ],
      "metadata": {
        "colab": {
          "base_uri": "https://localhost:8080/",
          "height": 130
        },
        "id": "7tBixHEmkWWO",
        "outputId": "9024cf5a-6b2d-463a-e0e9-515bce832092"
      },
      "execution_count": 5,
      "outputs": [
        {
          "output_type": "error",
          "ename": "SyntaxError",
          "evalue": "ignored",
          "traceback": [
            "\u001b[0;36m  File \u001b[0;32m\"<ipython-input-5-185ef72113cd>\"\u001b[0;36m, line \u001b[0;32m2\u001b[0m\n\u001b[0;31m    💡 **Question 4**\u001b[0m\n\u001b[0m    ^\u001b[0m\n\u001b[0;31mSyntaxError\u001b[0m\u001b[0;31m:\u001b[0m invalid character '💡' (U+1F4A1)\n"
          ]
        }
      ]
    },
    {
      "cell_type": "code",
      "source": [
        "def reverse_stack(St):\n",
        "    if St.empty() or St.qsize() == 1:\n",
        "        return\n",
        "\n",
        "    top_element = St.get()\n",
        "\n",
        "    reverse_stack(St)\n",
        "\n",
        "    insert_at_bottom(St, top_element)\n",
        "\n",
        "\n",
        "def insert_at_bottom(St, element):\n",
        "    if St.empty():\n",
        "        St.put(element)\n",
        "        return\n",
        "\n",
        "    top_element = St.get()\n",
        "\n",
        "    insert_at_bottom(St, element)\n",
        "\n",
        "    St.put(top_element)\n",
        "\n",
        "\n",
        "# Example usage\n",
        "from queue import LifoQueue\n",
        "\n",
        "stack = LifoQueue()\n",
        "stack.put(3)\n",
        "stack.put(2)\n",
        "stack.put(1)\n",
        "stack.put(7)\n",
        "stack.put(6)\n",
        "\n",
        "reverse_stack(stack)\n",
        "\n",
        "# Print the reversed stack\n",
        "while not stack.empty():\n",
        "    print(stack.get(), end=\" \")\n"
      ],
      "metadata": {
        "colab": {
          "base_uri": "https://localhost:8080/"
        },
        "id": "ooYqwy7jk_Mr",
        "outputId": "32b0f119-1d3c-4e03-993a-3645f3905af5"
      },
      "execution_count": 6,
      "outputs": [
        {
          "output_type": "stream",
          "name": "stdout",
          "text": [
            "3 2 1 7 6 "
          ]
        }
      ]
    },
    {
      "cell_type": "code",
      "source": [
        "💡 **Question 5**\n",
        "\n",
        "You are given a string **S**, the task is to reverse the string using stack.\n",
        "\n",
        "**Example 1:**\n",
        "Input: S=\"GeeksforGeeks\"\n",
        "Output: skeeGrofskeeG"
      ],
      "metadata": {
        "id": "6IWRuIc-k_Pz"
      },
      "execution_count": null,
      "outputs": []
    },
    {
      "cell_type": "code",
      "source": [
        "def reverse_string(S):\n",
        "    stack = []\n",
        "    reversed_str = \"\"\n",
        "\n",
        "    # Push each character onto the stack\n",
        "    for char in S:\n",
        "        stack.append(char)\n",
        "\n",
        "    # Pop each character from the stack and append it to the reversed string\n",
        "    while stack:\n",
        "        reversed_str += stack.pop()\n",
        "\n",
        "    return reversed_str\n",
        "\n",
        "# Example usage\n",
        "S = \"GeeksforGeeks\"\n",
        "reversed_string = reverse_string(S)\n",
        "print(reversed_string)\n"
      ],
      "metadata": {
        "colab": {
          "base_uri": "https://localhost:8080/"
        },
        "id": "Do_QQQd3k_Sc",
        "outputId": "1a925237-6bb9-4b37-e6f0-215f9d7fcc57"
      },
      "execution_count": 7,
      "outputs": [
        {
          "output_type": "stream",
          "name": "stdout",
          "text": [
            "skeeGrofskeeG\n"
          ]
        }
      ]
    },
    {
      "cell_type": "code",
      "source": [
        "<aside>\n",
        "💡 **Question 6**\n",
        "\n",
        "Given string **S** representing a postfix expression, the task is to evaluate the expression and find the final value. Operators will only include the basic arithmetic operators like ***, /, + and -**.\n",
        "\n",
        "**Example 1:**\n",
        "\n",
        "Input: S = \"231*+9-\"\n",
        "Output: -4\n",
        "Explanation:\n",
        "After solving the given expression,\n",
        "we have -4 as result.\n",
        "\n",
        "</aside>"
      ],
      "metadata": {
        "id": "N1qi4xa_lUfF"
      },
      "execution_count": null,
      "outputs": []
    },
    {
      "cell_type": "code",
      "source": [
        "def evaluate_postfix(expression):\n",
        "    stack = []\n",
        "\n",
        "    # Iterate over each character in the expression\n",
        "    for char in expression:\n",
        "        if char.isdigit():\n",
        "            # If the character is a digit, push it onto the stack\n",
        "            stack.append(int(char))\n",
        "        else:\n",
        "            # If the character is an operator, pop the top two operands from the stack\n",
        "            operand2 = stack.pop()\n",
        "            operand1 = stack.pop()\n",
        "\n",
        "            # Perform the operation based on the operator\n",
        "            if char == '*':\n",
        "                result = operand1 * operand2\n",
        "            elif char == '/':\n",
        "                result = operand1 / operand2\n",
        "            elif char == '+':\n",
        "                result = operand1 + operand2\n",
        "            elif char == '-':\n",
        "                result = operand1 - operand2\n",
        "\n",
        "            # Push the result back onto the stack\n",
        "            stack.append(result)\n",
        "\n",
        "    # The final result will be at the top of the stack\n",
        "    return stack.pop()\n",
        "\n",
        "# Example usage\n",
        "expression = \"231*+9-\"\n",
        "result = evaluate_postfix(expression)\n",
        "print(result)\n"
      ],
      "metadata": {
        "colab": {
          "base_uri": "https://localhost:8080/"
        },
        "id": "UYl9z2PMlUjR",
        "outputId": "1e65abeb-c3c1-4c29-ce4c-c25198fc9507"
      },
      "execution_count": 8,
      "outputs": [
        {
          "output_type": "stream",
          "name": "stdout",
          "text": [
            "-4\n"
          ]
        }
      ]
    },
    {
      "cell_type": "code",
      "source": [
        "<aside>\n",
        "💡 **Question 7**\n",
        "\n",
        "Design a stack that supports push, pop, top, and retrieving the minimum element in constant time.\n",
        "\n",
        "Implement the `MinStack` class:\n",
        "\n",
        "- `MinStack()` initializes the stack object.\n",
        "- `void push(int val)` pushes the element `val` onto the stack.\n",
        "- `void pop()` removes the element on the top of the stack.\n",
        "- `int top()` gets the top element of the stack.\n",
        "- `int getMin()` retrieves the minimum element in the stack.\n",
        "\n",
        "You must implement a solution with `O(1)` time complexity for each function.\n",
        "\n",
        "**Example 1:**\n",
        "Input\n",
        "[\"MinStack\",\"push\",\"push\",\"push\",\"getMin\",\"pop\",\"top\",\"getMin\"]\n",
        "[[],[-2],[0],[-3],[],[],[],[]]\n",
        "\n",
        "Output\n",
        "[null,null,null,null,-3,null,0,-2]\n",
        "\n",
        "Explanation\n",
        "MinStack minStack = new MinStack();\n",
        "minStack.push(-2);\n",
        "minStack.push(0);\n",
        "minStack.push(-3);\n",
        "minStack.getMin(); // return -3\n",
        "minStack.pop();\n",
        "minStack.top();    // return 0\n",
        "minStack.getMin(); // return -2\n",
        "</aside>"
      ],
      "metadata": {
        "id": "k9hkgcmBk_Vl"
      },
      "execution_count": null,
      "outputs": []
    },
    {
      "cell_type": "code",
      "source": [
        "class MinStack:\n",
        "    def __init__(self):\n",
        "        self.stack = []  # Main stack to store elements\n",
        "        self.min_stack = []  # Auxiliary stack to store minimum elements\n",
        "\n",
        "    def push(self, val):\n",
        "        self.stack.append(val)\n",
        "\n",
        "        # Update the minimum stack\n",
        "        if not self.min_stack or val <= self.min_stack[-1]:\n",
        "            self.min_stack.append(val)\n",
        "\n",
        "    def pop(self):\n",
        "        if self.stack:\n",
        "            popped_element = self.stack.pop()\n",
        "\n",
        "            # Update the minimum stack if the popped element is the current minimum\n",
        "            if popped_element == self.min_stack[-1]:\n",
        "                self.min_stack.pop()\n",
        "\n",
        "    def top(self):\n",
        "        if self.stack:\n",
        "            return self.stack[-1]\n",
        "\n",
        "    def getMin(self):\n",
        "        if self.min_stack:\n",
        "            return self.min_stack[-1]\n",
        "\n",
        "\n",
        "# Example usage\n",
        "minStack = MinStack()\n",
        "minStack.push(-2)\n",
        "minStack.push(0)\n",
        "minStack.push(-3)\n",
        "print(minStack.getMin())  # Output: -3\n",
        "minStack.pop()\n",
        "print(minStack.top())  # Output: 0\n",
        "print(minStack.getMin())  # Output: -2\n"
      ],
      "metadata": {
        "colab": {
          "base_uri": "https://localhost:8080/"
        },
        "id": "iFV8qft3lplF",
        "outputId": "909f96fc-3102-44e9-dd42-b21a45469053"
      },
      "execution_count": 9,
      "outputs": [
        {
          "output_type": "stream",
          "name": "stdout",
          "text": [
            "-3\n",
            "0\n",
            "-2\n"
          ]
        }
      ]
    },
    {
      "cell_type": "code",
      "source": [
        "<aside>\n",
        "💡 **Question 8**\n",
        "\n",
        "Given `n` non-negative integers representing an elevation map where the width of each bar is `1`, compute how much water it can trap after raining.\n",
        "Input: height = [0,1,0,2,1,0,1,3,2,1,2,1]\n",
        "Output: 6\n",
        "Explanation: The above elevation map (black section) is represented by array [0,1,0,2,1,0,1,3,2,1,2,1]. In this case, 6 units of rain water (blue section) are being trapped.\n",
        "\n",
        "</aside>"
      ],
      "metadata": {
        "id": "8LSNHFr4k_Y4"
      },
      "execution_count": null,
      "outputs": []
    },
    {
      "cell_type": "code",
      "source": [
        "def trap(height):\n",
        "    left = 0\n",
        "    right = len(height) - 1\n",
        "    left_max = right_max = water = 0\n",
        "\n",
        "    while left <= right:\n",
        "        if height[left] <= height[right]:\n",
        "            left_max = max(left_max, height[left])\n",
        "            water += left_max - height[left]\n",
        "            left += 1\n",
        "        else:\n",
        "            right_max = max(right_max, height[right])\n",
        "            water += right_max - height[right]\n",
        "            right -= 1\n",
        "\n",
        "    return water\n",
        "\n",
        "# Example usage\n",
        "height = [0, 1, 0, 2, 1, 0, 1, 3, 2, 1, 2, 1]\n",
        "water_trapped = trap(height)\n",
        "print(water_trapped)\n"
      ],
      "metadata": {
        "colab": {
          "base_uri": "https://localhost:8080/"
        },
        "id": "HdA-xWGAkWZx",
        "outputId": "f99dcb12-3d85-4afd-b820-57184823a682"
      },
      "execution_count": 10,
      "outputs": [
        {
          "output_type": "stream",
          "name": "stdout",
          "text": [
            "6\n"
          ]
        }
      ]
    },
    {
      "cell_type": "code",
      "source": [],
      "metadata": {
        "id": "ba20cuS8kVge"
      },
      "execution_count": null,
      "outputs": []
    }
  ]
}